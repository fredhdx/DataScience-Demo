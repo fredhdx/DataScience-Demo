{
  "nbformat": 4,
  "nbformat_minor": 0,
  "metadata": {
    "colab": {
      "private_outputs": true,
      "provenance": [],
      "authorship_tag": "ABX9TyP04A9t8AWrTp9Um1LY5HKG",
      "include_colab_link": true
    },
    "kernelspec": {
      "name": "python3",
      "display_name": "Python 3"
    },
    "language_info": {
      "name": "python"
    }
  },
  "cells": [
    {
      "cell_type": "markdown",
      "metadata": {
        "id": "view-in-github",
        "colab_type": "text"
      },
      "source": [
        "<a href=\"https://colab.research.google.com/github/fredhdx/DataScience-Demo/blob/main/data_science_notebook.ipynb\" target=\"_parent\"><img src=\"https://colab.research.google.com/assets/colab-badge.svg\" alt=\"Open In Colab\"/></a>"
      ]
    },
    {
      "cell_type": "markdown",
      "source": [
        "Ingest"
      ],
      "metadata": {
        "id": "uzP31pYaxvUQ"
      }
    },
    {
      "cell_type": "code",
      "source": [],
      "metadata": {
        "id": "j60Jkikfxw9u"
      },
      "execution_count": null,
      "outputs": []
    },
    {
      "cell_type": "markdown",
      "source": [
        "EDA\n"
      ],
      "metadata": {
        "id": "7gFK-fUvxxzA"
      }
    },
    {
      "cell_type": "code",
      "source": [],
      "metadata": {
        "id": "_DAAhojlxyie"
      },
      "execution_count": null,
      "outputs": []
    },
    {
      "cell_type": "markdown",
      "source": [
        "Modeling\n"
      ],
      "metadata": {
        "id": "3b1hjTjCxy-W"
      }
    },
    {
      "cell_type": "code",
      "source": [],
      "metadata": {
        "id": "qXfbfU5yxzuR"
      },
      "execution_count": null,
      "outputs": []
    },
    {
      "cell_type": "markdown",
      "source": [
        "Conclusion\n"
      ],
      "metadata": {
        "id": "HaLm_m7ix0BP"
      }
    },
    {
      "cell_type": "code",
      "source": [],
      "metadata": {
        "id": "wI1zyCyvx2H_"
      },
      "execution_count": null,
      "outputs": []
    }
  ]
}